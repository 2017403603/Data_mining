{
 "cells": [
  {
   "cell_type": "code",
   "execution_count": 1,
   "id": "24b1b8d2",
   "metadata": {},
   "outputs": [],
   "source": [
    "#导包\n",
    "import numpy as np\n",
    "import pandas as pd\n",
    "import matplotlib.pyplot as plt\n",
    "plt.rcParams[\"font.sans-serif\"] = \"SimHei\" #解决中文乱码问题\n",
    "import seaborn as sns\n",
    "import random\n",
    "from sklearn.model_selection import train_test_split\n",
    "from sklearn.linear_model import LogisticRegression\n",
    "from sklearn.preprocessing import LabelEncoder\n",
    "from sklearn.metrics import accuracy_score\n",
    "from sklearn import model_selection\n",
    "from sklearn.neighbors import KNeighborsRegressor"
   ]
  },
  {
   "cell_type": "code",
   "execution_count": 2,
   "id": "51717a7b",
   "metadata": {},
   "outputs": [
    {
     "name": "stdout",
     "output_type": "stream",
     "text": [
      "(261477, 3) (260864, 3)\n",
      "(424170, 3) (54925330, 7)\n"
     ]
    }
   ],
   "source": [
    "#读取数据\n",
    "\n",
    "df_train = pd.read_csv(r'../DataMining/data_format1\\train_format1.csv')\n",
    "df_test = pd.read_csv(r'../DataMining/data_format1\\test_format1.csv')\n",
    "user_info = pd.read_csv(r'../DataMining/data_format1\\user_info_format1.csv')\n",
    "user_log = pd.read_csv(r'../DataMining/data_format1\\user_log_format1.csv')\n",
    "\n",
    "print(df_test.shape,df_train.shape)\n",
    "print(user_info.shape,user_log.shape)"
   ]
  },
  {
   "cell_type": "code",
   "execution_count": 3,
   "id": "e833f4c8",
   "metadata": {},
   "outputs": [
    {
     "name": "stdout",
     "output_type": "stream",
     "text": [
      "<class 'pandas.core.frame.DataFrame'>\n",
      "RangeIndex: 424170 entries, 0 to 424169\n",
      "Data columns (total 3 columns):\n",
      " #   Column     Non-Null Count   Dtype  \n",
      "---  ------     --------------   -----  \n",
      " 0   user_id    424170 non-null  int64  \n",
      " 1   age_range  329039 non-null  float64\n",
      " 2   gender     407308 non-null  float64\n",
      "dtypes: float64(2), int64(1)\n",
      "memory usage: 9.7 MB\n"
     ]
    }
   ],
   "source": [
    "#使用空值去替换\n",
    "user_info['age_range'].replace(0.0,np.nan,inplace=True)\n",
    "user_info['gender'].replace(2.0,np.nan,inplace=True)\n",
    "\n",
    "user_info.info()"
   ]
  },
  {
   "cell_type": "code",
   "execution_count": 4,
   "id": "81f6042b",
   "metadata": {},
   "outputs": [],
   "source": [
    "user_info['age_range'].replace(np.nan,-1,inplace=True)\n",
    "user_info['gender'].replace(np.nan,-1,inplace=True)\n",
    "# user_info['age_range'].replace(np.nan,1,inplace=True)\n",
    "# user_info['gender'].replace(np.nan,0,inplace=True)"
   ]
  },
  {
   "cell_type": "code",
   "execution_count": 5,
   "id": "cfe56eb8",
   "metadata": {},
   "outputs": [
    {
     "data": {
      "text/plain": [
       "Text(0.5, 1.0, '用户年龄分布')"
      ]
     },
     "execution_count": 5,
     "metadata": {},
     "output_type": "execute_result"
    },
    {
     "data": {
      "image/png": "[encoded data removed]",
      "text/plain": [
       "<Figure size 720x432 with 1 Axes>"
      ]
     },
     "metadata": {
      "needs_background": "light"
     },
     "output_type": "display_data"
    }
   ],
   "source": [
    "#年龄分布可视化\n",
    "fig = plt.figure(figsize = (10, 6))\n",
    "x = np.array([\"NULL\",\"<18\",\"18-24\",\"25-29\",\"30-34\",\"35-39\",\"40-49\",\">=50\"])\n",
    "#<18岁为1；[18,24]为2； [25,29]为3； [30,34]为4；[35,39]为5；[40,49]为6； > = 50时为7和8\n",
    "y = np.array([user_info[user_info['age_range'] == -1]['age_range'].count(),\n",
    "             user_info[user_info['age_range'] == 1]['age_range'].count(),\n",
    "             user_info[user_info['age_range'] == 2]['age_range'].count(),\n",
    "             user_info[user_info['age_range'] == 3]['age_range'].count(),\n",
    "             user_info[user_info['age_range'] == 4]['age_range'].count(),\n",
    "             user_info[user_info['age_range'] == 5]['age_range'].count(),\n",
    "             user_info[user_info['age_range'] == 6]['age_range'].count(),\n",
    "             user_info[user_info['age_range'] == 7]['age_range'].count() + \n",
    "              user_info[user_info['age_range'] == 8]['age_range'].count()])\n",
    "plt.bar(x,y,label='人数')\n",
    "plt.legend()\n",
    "plt.title('用户年龄分布')"
   ]
  },
  {
   "cell_type": "code",
   "execution_count": 6,
   "id": "21ae9565",
   "metadata": {},
   "outputs": [
    {
     "data": {
      "text/plain": [
       "Text(0.5, 1.0, '用户性别分布')"
      ]
     },
     "execution_count": 6,
     "metadata": {},
     "output_type": "execute_result"
    },
    {
     "data": {
      "image/png": "[encoded data removed]",
      "text/plain": [
       "<Figure size 432x288 with 1 Axes>"
      ]
     },
     "metadata": {
      "needs_background": "light"
     },
     "output_type": "display_data"
    }
   ],
   "source": [
    "sns.countplot(x='gender',order=[-1,0,1],data=user_info)\n",
    "plt.title('用户性别分布')"
   ]
  },
  {
   "cell_type": "code",
   "execution_count": 7,
   "id": "a9a9558f",
   "metadata": {},
   "outputs": [
    {
     "data": {
      "text/plain": [
       "'\\n1.年龄空值的比较多，性别空值的少\\n2.年龄主要在18-39之间\\n3.大多数是女性\\n'"
      ]
     },
     "execution_count": 7,
     "metadata": {},
     "output_type": "execute_result"
    },
    {
     "data": {
      "image/png": "[encoded data removed]",
      "text/plain": [
       "<Figure size 432x288 with 1 Axes>"
      ]
     },
     "metadata": {
      "needs_background": "light"
     },
     "output_type": "display_data"
    }
   ],
   "source": [
    "sns.countplot(x='age_range',order=[-1,1,2,3,4,5,6,7,8],hue='gender',data=user_info)\n",
    "plt.title('用户年龄-性别分布')\n",
    "'''\n",
    "1.年龄空值的比较多，性别空值的少\n",
    "2.年龄主要在18-39之间\n",
    "3.大多数是女性\n",
    "'''"
   ]
  },
  {
   "cell_type": "code",
   "execution_count": 8,
   "id": "dc6ddb76",
   "metadata": {},
   "outputs": [],
   "source": [
    "#特征值合并\n",
    "\n",
    "df_train = pd.merge(df_train,user_info,on=\"user_id\",how=\"left\")\n",
    " \n",
    "total_logs_temp = user_log.groupby([user_log[\"user_id\"],user_log[\"seller_id\"]])[\"item_id\"].count().reset_index()\n",
    " \n",
    "total_logs_temp.rename(columns={\"seller_id\":\"merchant_id\",\"item_id\":\"total_item_id\"},inplace=True)\n",
    " \n",
    "df_train = pd.merge(df_train,total_logs_temp,on=[\"user_id\",\"merchant_id\"],how=\"left\")\n",
    " \n",
    "unique_item_id = user_log.groupby([\"user_id\",\"seller_id\",\"item_id\"]).count().reset_index()[[\"user_id\",\"seller_id\",\"item_id\"]]\n",
    " \n",
    "unique_item_id_cnt = unique_item_id.groupby([\"user_id\",\"seller_id\"]).count().reset_index()\n",
    " \n",
    "unique_item_id_cnt.rename(columns={\"seller_id\":\"merchant_id\",\"item_id\":\"unique_item_id\"},inplace=True)\n",
    " \n",
    "df_train = pd.merge(df_train, unique_item_id_cnt, on=[\"user_id\", \"merchant_id\"], how=\"left\")\n",
    " \n",
    "cat_id_temp = user_log.groupby([\"user_id\", \"seller_id\", \"cat_id\"]).count().reset_index()[[\"user_id\", \"seller_id\", \"cat_id\"]]\n",
    " \n",
    "cat_id_temp_cnt = cat_id_temp.groupby([\"user_id\", \"seller_id\"]).count().reset_index()\n",
    " \n",
    "cat_id_temp_cnt.rename(columns={\"seller_id\":\"merchant_id\",\"cat_id\":\"total_cat_id\"},inplace=True)\n",
    " \n",
    "df_train = pd.merge(df_train, cat_id_temp_cnt, on=[\"user_id\", \"merchant_id\"], how=\"left\")\n",
    " \n",
    "time_temp = user_log.groupby([\"user_id\", \"seller_id\", \"time_stamp\"]).count().reset_index()[[\"user_id\", \"seller_id\", \"time_stamp\"]]\n",
    " \n",
    "time_temp_cnt = time_temp.groupby([\"user_id\", \"seller_id\"]).count().reset_index()\n",
    " \n",
    "time_temp_cnt.rename(columns={\"seller_id\":\"merchant_id\",\"time_stamp\":\"total_time_temp\"},inplace=True)\n",
    " \n",
    "df_train = pd.merge(df_train, time_temp_cnt, on=[\"user_id\", \"merchant_id\"], how=\"left\")\n",
    " \n",
    "click_temp = user_log.groupby([\"user_id\", \"seller_id\", \"action_type\"])[\"item_id\"].count().reset_index()\n",
    " \n",
    "click_temp.rename(columns={\"seller_id\":\"merchant_id\",\"item_id\":\"times\"},inplace=True)\n",
    " \n",
    "click_temp[\"clicks\"] = click_temp[\"action_type\"] == 0\n",
    " \n",
    "click_temp[\"clicks\"] = click_temp[\"clicks\"] * click_temp[\"times\"]\n",
    " \n",
    "click_temp[\"shopping_cart\"] = click_temp[\"action_type\"] == 1\n",
    "click_temp[\"shopping_cart\"] = click_temp[\"shopping_cart\"] * click_temp[\"times\"]\n",
    " \n",
    "click_temp[\"purchases\"] = click_temp[\"action_type\"] == 2\n",
    "click_temp[\"purchases\"] = click_temp[\"purchases\"] * click_temp[\"times\"]\n",
    " \n",
    "click_temp[\"favourites\"] = click_temp[\"action_type\"] == 3\n",
    "click_temp[\"favourites\"] = click_temp[\"favourites\"] * click_temp[\"times\"]\n",
    " \n",
    "four_features = click_temp.groupby([\"user_id\", \"merchant_id\"]).sum().reset_index()\n",
    " \n",
    "#删除相关列\n",
    "four_features = four_features.drop([\"action_type\", \"times\"], axis=1)\n",
    " \n",
    "#合并\n",
    "df_train = pd.merge(df_train, four_features, on=[\"user_id\", \"merchant_id\"], how=\"left\")\n",
    " \n",
    "#缺失值向前填充\n",
    "df_train = df_train.fillna(method=\"ffill\")\n",
    " "
   ]
  },
  {
   "cell_type": "code",
   "execution_count": 9,
   "id": "c0467512",
   "metadata": {},
   "outputs": [],
   "source": [
    "# user_info['age_range'].replace(np.nan,1,inplace=True)\n",
    "# user_info['gender'].replace(np.nan,0,inplace=True)\n",
    "# df_train['age_range'].replace(-1,np.nan,inplace=True)\n",
    "# df_train['gender'].replace(-1,np.nan,inplace=True)"
   ]
  },
  {
   "cell_type": "code",
   "execution_count": 10,
   "id": "91ed1463",
   "metadata": {},
   "outputs": [
    {
     "data": {
      "text/html": [
       "<div>\n",
       "<style scoped>\n",
       "    .dataframe tbody tr th:only-of-type {\n",
       "        vertical-align: middle;\n",
       "    }\n",
       "\n",
       "    .dataframe tbody tr th {\n",
       "        vertical-align: top;\n",
       "    }\n",
       "\n",
       "    .dataframe thead th {\n",
       "        text-align: right;\n",
       "    }\n",
       "</style>\n",
       "<table border=\"1\" class=\"dataframe\">\n",
       "  <thead>\n",
       "    <tr style=\"text-align: right;\">\n",
       "      <th></th>\n",
       "      <th>user_id</th>\n",
       "      <th>merchant_id</th>\n",
       "      <th>label</th>\n",
       "      <th>age_range</th>\n",
       "      <th>gender</th>\n",
       "      <th>total_item_id</th>\n",
       "      <th>unique_item_id</th>\n",
       "      <th>total_cat_id</th>\n",
       "      <th>total_time_temp</th>\n",
       "      <th>clicks</th>\n",
       "      <th>shopping_cart</th>\n",
       "      <th>purchases</th>\n",
       "      <th>favourites</th>\n",
       "    </tr>\n",
       "  </thead>\n",
       "  <tbody>\n",
       "    <tr>\n",
       "      <th>0</th>\n",
       "      <td>34176</td>\n",
       "      <td>3906</td>\n",
       "      <td>0</td>\n",
       "      <td>6.0</td>\n",
       "      <td>0.0</td>\n",
       "      <td>39</td>\n",
       "      <td>20</td>\n",
       "      <td>6</td>\n",
       "      <td>9</td>\n",
       "      <td>36</td>\n",
       "      <td>0</td>\n",
       "      <td>1</td>\n",
       "      <td>2</td>\n",
       "    </tr>\n",
       "    <tr>\n",
       "      <th>1</th>\n",
       "      <td>34176</td>\n",
       "      <td>121</td>\n",
       "      <td>0</td>\n",
       "      <td>6.0</td>\n",
       "      <td>0.0</td>\n",
       "      <td>14</td>\n",
       "      <td>1</td>\n",
       "      <td>1</td>\n",
       "      <td>3</td>\n",
       "      <td>13</td>\n",
       "      <td>0</td>\n",
       "      <td>1</td>\n",
       "      <td>0</td>\n",
       "    </tr>\n",
       "    <tr>\n",
       "      <th>2</th>\n",
       "      <td>34176</td>\n",
       "      <td>4356</td>\n",
       "      <td>1</td>\n",
       "      <td>6.0</td>\n",
       "      <td>0.0</td>\n",
       "      <td>18</td>\n",
       "      <td>2</td>\n",
       "      <td>1</td>\n",
       "      <td>2</td>\n",
       "      <td>12</td>\n",
       "      <td>0</td>\n",
       "      <td>6</td>\n",
       "      <td>0</td>\n",
       "    </tr>\n",
       "    <tr>\n",
       "      <th>3</th>\n",
       "      <td>34176</td>\n",
       "      <td>2217</td>\n",
       "      <td>0</td>\n",
       "      <td>6.0</td>\n",
       "      <td>0.0</td>\n",
       "      <td>2</td>\n",
       "      <td>1</td>\n",
       "      <td>1</td>\n",
       "      <td>1</td>\n",
       "      <td>1</td>\n",
       "      <td>0</td>\n",
       "      <td>1</td>\n",
       "      <td>0</td>\n",
       "    </tr>\n",
       "    <tr>\n",
       "      <th>4</th>\n",
       "      <td>230784</td>\n",
       "      <td>4818</td>\n",
       "      <td>0</td>\n",
       "      <td>-1.0</td>\n",
       "      <td>0.0</td>\n",
       "      <td>8</td>\n",
       "      <td>1</td>\n",
       "      <td>1</td>\n",
       "      <td>3</td>\n",
       "      <td>7</td>\n",
       "      <td>0</td>\n",
       "      <td>1</td>\n",
       "      <td>0</td>\n",
       "    </tr>\n",
       "    <tr>\n",
       "      <th>...</th>\n",
       "      <td>...</td>\n",
       "      <td>...</td>\n",
       "      <td>...</td>\n",
       "      <td>...</td>\n",
       "      <td>...</td>\n",
       "      <td>...</td>\n",
       "      <td>...</td>\n",
       "      <td>...</td>\n",
       "      <td>...</td>\n",
       "      <td>...</td>\n",
       "      <td>...</td>\n",
       "      <td>...</td>\n",
       "      <td>...</td>\n",
       "    </tr>\n",
       "    <tr>\n",
       "      <th>260859</th>\n",
       "      <td>359807</td>\n",
       "      <td>4325</td>\n",
       "      <td>0</td>\n",
       "      <td>4.0</td>\n",
       "      <td>1.0</td>\n",
       "      <td>20</td>\n",
       "      <td>6</td>\n",
       "      <td>2</td>\n",
       "      <td>1</td>\n",
       "      <td>18</td>\n",
       "      <td>0</td>\n",
       "      <td>2</td>\n",
       "      <td>0</td>\n",
       "    </tr>\n",
       "    <tr>\n",
       "      <th>260860</th>\n",
       "      <td>294527</td>\n",
       "      <td>3971</td>\n",
       "      <td>0</td>\n",
       "      <td>-1.0</td>\n",
       "      <td>1.0</td>\n",
       "      <td>17</td>\n",
       "      <td>3</td>\n",
       "      <td>1</td>\n",
       "      <td>2</td>\n",
       "      <td>13</td>\n",
       "      <td>0</td>\n",
       "      <td>1</td>\n",
       "      <td>3</td>\n",
       "    </tr>\n",
       "    <tr>\n",
       "      <th>260861</th>\n",
       "      <td>294527</td>\n",
       "      <td>152</td>\n",
       "      <td>0</td>\n",
       "      <td>-1.0</td>\n",
       "      <td>1.0</td>\n",
       "      <td>9</td>\n",
       "      <td>1</td>\n",
       "      <td>1</td>\n",
       "      <td>1</td>\n",
       "      <td>7</td>\n",
       "      <td>0</td>\n",
       "      <td>1</td>\n",
       "      <td>1</td>\n",
       "    </tr>\n",
       "    <tr>\n",
       "      <th>260862</th>\n",
       "      <td>294527</td>\n",
       "      <td>2537</td>\n",
       "      <td>0</td>\n",
       "      <td>-1.0</td>\n",
       "      <td>1.0</td>\n",
       "      <td>1</td>\n",
       "      <td>1</td>\n",
       "      <td>1</td>\n",
       "      <td>1</td>\n",
       "      <td>0</td>\n",
       "      <td>0</td>\n",
       "      <td>1</td>\n",
       "      <td>0</td>\n",
       "    </tr>\n",
       "    <tr>\n",
       "      <th>260863</th>\n",
       "      <td>229247</td>\n",
       "      <td>4140</td>\n",
       "      <td>0</td>\n",
       "      <td>4.0</td>\n",
       "      <td>-1.0</td>\n",
       "      <td>24</td>\n",
       "      <td>15</td>\n",
       "      <td>1</td>\n",
       "      <td>2</td>\n",
       "      <td>23</td>\n",
       "      <td>0</td>\n",
       "      <td>1</td>\n",
       "      <td>0</td>\n",
       "    </tr>\n",
       "  </tbody>\n",
       "</table>\n",
       "<p>260864 rows × 13 columns</p>\n",
       "</div>"
      ],
      "text/plain": [
       "        user_id  merchant_id  label  age_range  gender  total_item_id  \\\n",
       "0         34176         3906      0        6.0     0.0             39   \n",
       "1         34176          121      0        6.0     0.0             14   \n",
       "2         34176         4356      1        6.0     0.0             18   \n",
       "3         34176         2217      0        6.0     0.0              2   \n",
       "4        230784         4818      0       -1.0     0.0              8   \n",
       "...         ...          ...    ...        ...     ...            ...   \n",
       "260859   359807         4325      0        4.0     1.0             20   \n",
       "260860   294527         3971      0       -1.0     1.0             17   \n",
       "260861   294527          152      0       -1.0     1.0              9   \n",
       "260862   294527         2537      0       -1.0     1.0              1   \n",
       "260863   229247         4140      0        4.0    -1.0             24   \n",
       "\n",
       "        unique_item_id  total_cat_id  total_time_temp  clicks  shopping_cart  \\\n",
       "0                   20             6                9      36              0   \n",
       "1                    1             1                3      13              0   \n",
       "2                    2             1                2      12              0   \n",
       "3                    1             1                1       1              0   \n",
       "4                    1             1                3       7              0   \n",
       "...                ...           ...              ...     ...            ...   \n",
       "260859               6             2                1      18              0   \n",
       "260860               3             1                2      13              0   \n",
       "260861               1             1                1       7              0   \n",
       "260862               1             1                1       0              0   \n",
       "260863              15             1                2      23              0   \n",
       "\n",
       "        purchases  favourites  \n",
       "0               1           2  \n",
       "1               1           0  \n",
       "2               6           0  \n",
       "3               1           0  \n",
       "4               1           0  \n",
       "...           ...         ...  \n",
       "260859          2           0  \n",
       "260860          1           3  \n",
       "260861          1           1  \n",
       "260862          1           0  \n",
       "260863          1           0  \n",
       "\n",
       "[260864 rows x 13 columns]"
      ]
     },
     "execution_count": 10,
     "metadata": {},
     "output_type": "execute_result"
    }
   ],
   "source": [
    "# print(df_train.shape)\n",
    "# df_train_dropnan=df_train.dropna(axis=0,how='any')\n",
    "# df_train_dropnan.shape\n",
    "df_train"
   ]
  },
  {
   "cell_type": "code",
   "execution_count": 11,
   "id": "becb8596",
   "metadata": {},
   "outputs": [],
   "source": [
    "#将构建好的特征保存\n",
    "df_train.to_csv(\"df_train.csv\",index=None)"
   ]
  },
  {
   "cell_type": "code",
   "execution_count": null,
   "id": "9aeeb576",
   "metadata": {},
   "outputs": [],
   "source": []
  }
 ],
 "metadata": {
  "kernelspec": {
   "display_name": "Python 3",
   "language": "python",
   "name": "python3"
  },
  "language_info": {
   "codemirror_mode": {
    "name": "ipython",
    "version": 3
   },
   "file_extension": ".py",
   "mimetype": "text/x-python",
   "name": "python",
   "nbconvert_exporter": "python",
   "pygments_lexer": "ipython3",
   "version": "3.8.8"
  }
 },
 "nbformat": 4,
 "nbformat_minor": 5
}
